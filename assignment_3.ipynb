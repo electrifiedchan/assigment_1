{
 "cells": [
  {
   "cell_type": "code",
   "execution_count": 1,
   "id": "dd04e18f",
   "metadata": {},
   "outputs": [
    {
     "name": "stdout",
     "output_type": "stream",
     "text": [
      "Probability of heads: 0.6\n",
      "Probability of tails: 0.4\n",
      "Probability of disease given positive test: 0.16666666666666669\n"
     ]
    }
   ],
   "source": [
    "heads = 60\n",
    "tails = 40\n",
    "total_flips = heads + tails\n",
    "prob_heads = heads / total_flips\n",
    "prob_tails = tails / total_flips\n",
    "print(f\"Probability of heads: {prob_heads}\")\n",
    "print(f\"Probability of tails: {prob_tails}\")\n",
    "\n",
    "p_disease = 0.01\n",
    "p_no_disease = 1 - p_disease\n",
    "p_pos_given_disease = 0.99\n",
    "p_pos_given_no_disease = 0.05\n",
    "p_positive = (p_pos_given_disease * p_disease) + (p_pos_given_no_disease * p_no_disease)\n",
    "p_disease_given_positive = (p_pos_given_disease * p_disease) / p_positive\n",
    "print(f\"Probability of disease given positive test: {p_disease_given_positive}\")"
   ]
  },
  {
   "cell_type": "code",
   "execution_count": 3,
   "id": "074e9946",
   "metadata": {},
   "outputs": [
    {
     "name": "stdout",
     "output_type": "stream",
     "text": [
      "Function: f(x) = 3*x**2 - 2*x - 5\n",
      "Derivative: f'(x) = 6*x - 2\n",
      "Derivative at x = 2: 10\n"
     ]
    }
   ],
   "source": [
    "from sympy import symbols, diff\n",
    "\n",
    "x = symbols('x')\n",
    "f_x = 3*x**2 - 2*x - 5\n",
    "der_x = diff(f_x, x)\n",
    "\n",
    "x_point = 2\n",
    "der_at_point = der_x.subs(x, x_point)\n",
    "\n",
    "print(f\"Function: f(x) = {f_x}\")\n",
    "print(f\"Derivative: f'(x) = {der_x}\")\n",
    "print(f\"Derivative at x = {x_point}: {der_at_point}\")"
   ]
  }
 ],
 "metadata": {
  "kernelspec": {
   "display_name": "Python 3",
   "language": "python",
   "name": "python3"
  },
  "language_info": {
   "codemirror_mode": {
    "name": "ipython",
    "version": 3
   },
   "file_extension": ".py",
   "mimetype": "text/x-python",
   "name": "python",
   "nbconvert_exporter": "python",
   "pygments_lexer": "ipython3",
   "version": "3.13.3"
  }
 },
 "nbformat": 4,
 "nbformat_minor": 5
}
